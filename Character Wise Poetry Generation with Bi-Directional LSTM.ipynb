{
  "nbformat": 4,
  "nbformat_minor": 0,
  "metadata": {
    "colab": {
      "name": "NLP_Week4_Exercise_Shakespeare_Answer.ipynb",
      "provenance": []
    },
    "kernelspec": {
      "name": "python3",
      "display_name": "Python 3"
    },
    "accelerator": "GPU"
  },
  "cells": [
    {
      "cell_type": "code",
      "metadata": {
        "id": "BOwsuGQQY9OL",
        "colab_type": "code",
        "colab": {
          "base_uri": "https://localhost:8080/",
          "height": 63
        },
        "outputId": "79f16229-f007-4546-a555-ca672464b5e2"
      },
      "source": [
        "from tensorflow.keras.preprocessing.sequence import pad_sequences\n",
        "from tensorflow.keras.layers import Embedding, LSTM, Dense, Dropout, Bidirectional\n",
        "from tensorflow.keras.preprocessing.text import Tokenizer\n",
        "from tensorflow.keras.models import Sequential\n",
        "from tensorflow.keras.optimizers import Adam\n",
        "from tensorflow.keras import regularizers\n",
        "import tensorflow.keras.utils as ku \n",
        "import numpy as np "
      ],
      "execution_count": 2,
      "outputs": [
        {
          "output_type": "display_data",
          "data": {
            "text/html": [
              "<p style=\"color: red;\">\n",
              "The default version of TensorFlow in Colab will soon switch to TensorFlow 2.x.<br>\n",
              "We recommend you <a href=\"https://www.tensorflow.org/guide/migrate\" target=\"_blank\">upgrade</a> now \n",
              "or ensure your notebook will continue to use TensorFlow 1.x via the <code>%tensorflow_version 1.x</code> magic:\n",
              "<a href=\"https://colab.research.google.com/notebooks/tensorflow_version.ipynb\" target=\"_blank\">more info</a>.</p>\n"
            ],
            "text/plain": [
              "<IPython.core.display.HTML object>"
            ]
          },
          "metadata": {
            "tags": []
          }
        }
      ]
    },
    {
      "cell_type": "code",
      "metadata": {
        "colab_type": "code",
        "id": "PRnDnCW-Z7qv",
        "colab": {
          "base_uri": "https://localhost:8080/",
          "height": 204
        },
        "outputId": "f18dbce9-7588-4232-9331-53d97d1d180a"
      },
      "source": [
        "tokenizer = Tokenizer()\n",
        "!wget --no-check-certificate \\\n",
        "    https://storage.googleapis.com/laurencemoroney-blog.appspot.com/sonnets.txt \\\n",
        "    -O /tmp/sonnets.txt\n",
        "data = open('/tmp/sonnets.txt').read()\n",
        "\n",
        "corpus = data.lower().split(\"\\n\")\n",
        "\n",
        "\n",
        "tokenizer.fit_on_texts(corpus)\n",
        "total_words = len(tokenizer.word_index) + 1\n",
        "\n",
        "# create input sequences using list of tokens\n",
        "input_sequences = []\n",
        "for line in corpus:\n",
        "\ttoken_list = tokenizer.texts_to_sequences([line])[0]\n",
        "\tfor i in range(1, len(token_list)):\n",
        "\t\tn_gram_sequence = token_list[:i+1]\n",
        "\t\tinput_sequences.append(n_gram_sequence)\n",
        "\n",
        "\n",
        "# pad sequences \n",
        "max_sequence_len = max([len(x) for x in input_sequences])\n",
        "input_sequences = np.array(pad_sequences(input_sequences, maxlen=max_sequence_len, padding='pre'))\n",
        "\n",
        "# create predictors and label\n",
        "predictors, label = input_sequences[:,:-1],input_sequences[:,-1]\n",
        "\n",
        "label = ku.to_categorical(label, num_classes=total_words)"
      ],
      "execution_count": 3,
      "outputs": [
        {
          "output_type": "stream",
          "text": [
            "--2019-12-12 12:33:04--  https://storage.googleapis.com/laurencemoroney-blog.appspot.com/sonnets.txt\n",
            "Resolving storage.googleapis.com (storage.googleapis.com)... 74.125.142.128, 2607:f8b0:400e:c08::80\n",
            "Connecting to storage.googleapis.com (storage.googleapis.com)|74.125.142.128|:443... connected.\n",
            "HTTP request sent, awaiting response... 200 OK\n",
            "Length: 93578 (91K) [text/plain]\n",
            "Saving to: ‘/tmp/sonnets.txt’\n",
            "\n",
            "\r/tmp/sonnets.txt      0%[                    ]       0  --.-KB/s               \r/tmp/sonnets.txt    100%[===================>]  91.38K  --.-KB/s    in 0.001s  \n",
            "\n",
            "2019-12-12 12:33:04 (133 MB/s) - ‘/tmp/sonnets.txt’ saved [93578/93578]\n",
            "\n"
          ],
          "name": "stdout"
        }
      ]
    },
    {
      "cell_type": "code",
      "metadata": {
        "id": "w9vH8Y59ajYL",
        "colab_type": "code",
        "colab": {
          "base_uri": "https://localhost:8080/",
          "height": 649
        },
        "outputId": "aad09097-20ad-49d8-df27-1126dded994c"
      },
      "source": [
        "model = Sequential()\n",
        "model.add(Embedding(total_words, 100, input_length=max_sequence_len-1))\n",
        "model.add(Bidirectional(LSTM(150, return_sequences = True)))\n",
        "model.add(Dropout(0.2))\n",
        "model.add(LSTM(100))\n",
        "model.add(Dense(total_words/2, activation='relu', kernel_regularizer=regularizers.l2(0.01)))\n",
        "model.add(Dense(total_words, activation='softmax'))\n",
        "model.compile(loss='categorical_crossentropy', optimizer='adam', metrics=['accuracy'])\n",
        "print(model.summary())\n"
      ],
      "execution_count": 4,
      "outputs": [
        {
          "output_type": "stream",
          "text": [
            "WARNING:tensorflow:From /usr/local/lib/python3.6/dist-packages/tensorflow_core/python/keras/initializers.py:119: calling RandomUniform.__init__ (from tensorflow.python.ops.init_ops) with dtype is deprecated and will be removed in a future version.\n",
            "Instructions for updating:\n",
            "Call initializer instance with the dtype argument instead of passing it to the constructor\n",
            "WARNING:tensorflow:From /usr/local/lib/python3.6/dist-packages/tensorflow_core/python/ops/resource_variable_ops.py:1630: calling BaseResourceVariable.__init__ (from tensorflow.python.ops.resource_variable_ops) with constraint is deprecated and will be removed in a future version.\n",
            "Instructions for updating:\n",
            "If using Keras pass *_constraint arguments to layers.\n",
            "WARNING:tensorflow:From /usr/local/lib/python3.6/dist-packages/tensorflow_core/python/ops/init_ops.py:97: calling GlorotUniform.__init__ (from tensorflow.python.ops.init_ops) with dtype is deprecated and will be removed in a future version.\n",
            "Instructions for updating:\n",
            "Call initializer instance with the dtype argument instead of passing it to the constructor\n",
            "WARNING:tensorflow:From /usr/local/lib/python3.6/dist-packages/tensorflow_core/python/ops/init_ops.py:97: calling Orthogonal.__init__ (from tensorflow.python.ops.init_ops) with dtype is deprecated and will be removed in a future version.\n",
            "Instructions for updating:\n",
            "Call initializer instance with the dtype argument instead of passing it to the constructor\n",
            "WARNING:tensorflow:From /usr/local/lib/python3.6/dist-packages/tensorflow_core/python/ops/init_ops.py:97: calling Zeros.__init__ (from tensorflow.python.ops.init_ops) with dtype is deprecated and will be removed in a future version.\n",
            "Instructions for updating:\n",
            "Call initializer instance with the dtype argument instead of passing it to the constructor\n",
            "Model: \"sequential\"\n",
            "_________________________________________________________________\n",
            "Layer (type)                 Output Shape              Param #   \n",
            "=================================================================\n",
            "embedding (Embedding)        (None, 10, 100)           321100    \n",
            "_________________________________________________________________\n",
            "bidirectional (Bidirectional (None, 10, 300)           301200    \n",
            "_________________________________________________________________\n",
            "dropout (Dropout)            (None, 10, 300)           0         \n",
            "_________________________________________________________________\n",
            "lstm_1 (LSTM)                (None, 100)               160400    \n",
            "_________________________________________________________________\n",
            "dense (Dense)                (None, 1605)              162105    \n",
            "_________________________________________________________________\n",
            "dense_1 (Dense)              (None, 3211)              5156866   \n",
            "=================================================================\n",
            "Total params: 6,101,671\n",
            "Trainable params: 6,101,671\n",
            "Non-trainable params: 0\n",
            "_________________________________________________________________\n",
            "None\n"
          ],
          "name": "stdout"
        }
      ]
    },
    {
      "cell_type": "code",
      "metadata": {
        "id": "AIg2f1HBxqof",
        "colab_type": "code",
        "colab": {
          "base_uri": "https://localhost:8080/",
          "height": 1000
        },
        "outputId": "b9760c65-1a8c-4be5-ceec-51ddc4d5842f"
      },
      "source": [
        " history = model.fit(predictors, label, epochs=100, verbose=1)"
      ],
      "execution_count": 5,
      "outputs": [
        {
          "output_type": "stream",
          "text": [
            "WARNING:tensorflow:From /usr/local/lib/python3.6/dist-packages/tensorflow_core/python/ops/math_grad.py:1424: where (from tensorflow.python.ops.array_ops) is deprecated and will be removed in a future version.\n",
            "Instructions for updating:\n",
            "Use tf.where in 2.0, which has the same broadcast rule as np.where\n",
            "Train on 15462 samples\n",
            "Epoch 1/100\n",
            "15462/15462 [==============================] - 22s 1ms/sample - loss: 6.9337 - acc: 0.0210\n",
            "Epoch 2/100\n",
            "15462/15462 [==============================] - 19s 1ms/sample - loss: 6.5098 - acc: 0.0232\n",
            "Epoch 3/100\n",
            "15462/15462 [==============================] - 19s 1ms/sample - loss: 6.4042 - acc: 0.0257\n",
            "Epoch 4/100\n",
            "15462/15462 [==============================] - 19s 1ms/sample - loss: 6.2794 - acc: 0.0298\n",
            "Epoch 5/100\n",
            "15462/15462 [==============================] - 19s 1ms/sample - loss: 6.1722 - acc: 0.0351\n",
            "Epoch 6/100\n",
            "15462/15462 [==============================] - 19s 1ms/sample - loss: 6.0703 - acc: 0.0398\n",
            "Epoch 7/100\n",
            "15462/15462 [==============================] - 19s 1ms/sample - loss: 5.9704 - acc: 0.0431\n",
            "Epoch 8/100\n",
            "15462/15462 [==============================] - 19s 1ms/sample - loss: 5.8661 - acc: 0.0472\n",
            "Epoch 9/100\n",
            "15462/15462 [==============================] - 19s 1ms/sample - loss: 5.7640 - acc: 0.0521\n",
            "Epoch 10/100\n",
            "15462/15462 [==============================] - 19s 1ms/sample - loss: 5.6654 - acc: 0.0573\n",
            "Epoch 11/100\n",
            "15462/15462 [==============================] - 19s 1ms/sample - loss: 5.5689 - acc: 0.0612\n",
            "Epoch 12/100\n",
            "15462/15462 [==============================] - 19s 1ms/sample - loss: 5.4674 - acc: 0.0673\n",
            "Epoch 13/100\n",
            "15462/15462 [==============================] - 19s 1ms/sample - loss: 5.3735 - acc: 0.0759\n",
            "Epoch 14/100\n",
            "15462/15462 [==============================] - 19s 1ms/sample - loss: 5.2824 - acc: 0.0800\n",
            "Epoch 15/100\n",
            "15462/15462 [==============================] - 19s 1ms/sample - loss: 5.1886 - acc: 0.0835\n",
            "Epoch 16/100\n",
            "15462/15462 [==============================] - 19s 1ms/sample - loss: 5.0949 - acc: 0.0888\n",
            "Epoch 17/100\n",
            "15462/15462 [==============================] - 19s 1ms/sample - loss: 5.0035 - acc: 0.0979\n",
            "Epoch 18/100\n",
            "15462/15462 [==============================] - 19s 1ms/sample - loss: 4.9121 - acc: 0.1050\n",
            "Epoch 19/100\n",
            "15462/15462 [==============================] - 19s 1ms/sample - loss: 4.8257 - acc: 0.1081\n",
            "Epoch 20/100\n",
            "15462/15462 [==============================] - 19s 1ms/sample - loss: 4.7307 - acc: 0.1162\n",
            "Epoch 21/100\n",
            "15462/15462 [==============================] - 19s 1ms/sample - loss: 4.6412 - acc: 0.1244\n",
            "Epoch 22/100\n",
            "15462/15462 [==============================] - 19s 1ms/sample - loss: 4.5413 - acc: 0.1330\n",
            "Epoch 23/100\n",
            "15462/15462 [==============================] - 19s 1ms/sample - loss: 4.4470 - acc: 0.1407\n",
            "Epoch 24/100\n",
            "15462/15462 [==============================] - 19s 1ms/sample - loss: 4.3546 - acc: 0.1504\n",
            "Epoch 25/100\n",
            "15462/15462 [==============================] - 18s 1ms/sample - loss: 4.2553 - acc: 0.1659\n",
            "Epoch 26/100\n",
            "15462/15462 [==============================] - 20s 1ms/sample - loss: 4.1694 - acc: 0.1759\n",
            "Epoch 27/100\n",
            "15462/15462 [==============================] - 20s 1ms/sample - loss: 4.0644 - acc: 0.1887\n",
            "Epoch 28/100\n",
            "15462/15462 [==============================] - 19s 1ms/sample - loss: 3.9783 - acc: 0.2018\n",
            "Epoch 29/100\n",
            "15462/15462 [==============================] - 19s 1ms/sample - loss: 3.8835 - acc: 0.2189\n",
            "Epoch 30/100\n",
            "15462/15462 [==============================] - 19s 1ms/sample - loss: 3.7971 - acc: 0.2331\n",
            "Epoch 31/100\n",
            "15462/15462 [==============================] - 19s 1ms/sample - loss: 3.7096 - acc: 0.2502\n",
            "Epoch 32/100\n",
            "15462/15462 [==============================] - 18s 1ms/sample - loss: 3.6224 - acc: 0.2663\n",
            "Epoch 33/100\n",
            "15462/15462 [==============================] - 18s 1ms/sample - loss: 3.5519 - acc: 0.2841\n",
            "Epoch 34/100\n",
            "15462/15462 [==============================] - 19s 1ms/sample - loss: 3.4629 - acc: 0.3030\n",
            "Epoch 35/100\n",
            "15462/15462 [==============================] - 19s 1ms/sample - loss: 3.3798 - acc: 0.3209\n",
            "Epoch 36/100\n",
            "15462/15462 [==============================] - 18s 1ms/sample - loss: 3.3032 - acc: 0.3399\n",
            "Epoch 37/100\n",
            "15462/15462 [==============================] - 19s 1ms/sample - loss: 3.2284 - acc: 0.3529\n",
            "Epoch 38/100\n",
            "15462/15462 [==============================] - 18s 1ms/sample - loss: 3.1609 - acc: 0.3684\n",
            "Epoch 39/100\n",
            "15462/15462 [==============================] - 18s 1ms/sample - loss: 3.0891 - acc: 0.3841\n",
            "Epoch 40/100\n",
            "15462/15462 [==============================] - 18s 1ms/sample - loss: 3.0132 - acc: 0.4056\n",
            "Epoch 41/100\n",
            "15462/15462 [==============================] - 18s 1ms/sample - loss: 2.9454 - acc: 0.4205\n",
            "Epoch 42/100\n",
            "15462/15462 [==============================] - 18s 1ms/sample - loss: 2.8883 - acc: 0.4296\n",
            "Epoch 43/100\n",
            "15462/15462 [==============================] - 18s 1ms/sample - loss: 2.8349 - acc: 0.4395\n",
            "Epoch 44/100\n",
            "15462/15462 [==============================] - 19s 1ms/sample - loss: 2.7687 - acc: 0.4590\n",
            "Epoch 45/100\n",
            "15462/15462 [==============================] - 19s 1ms/sample - loss: 2.7165 - acc: 0.4649\n",
            "Epoch 46/100\n",
            "15462/15462 [==============================] - 18s 1ms/sample - loss: 2.6490 - acc: 0.4848\n",
            "Epoch 47/100\n",
            "15462/15462 [==============================] - 19s 1ms/sample - loss: 2.6065 - acc: 0.4958\n",
            "Epoch 48/100\n",
            "15462/15462 [==============================] - 19s 1ms/sample - loss: 2.5463 - acc: 0.5131\n",
            "Epoch 49/100\n",
            "15462/15462 [==============================] - 19s 1ms/sample - loss: 2.5023 - acc: 0.5146\n",
            "Epoch 50/100\n",
            "15462/15462 [==============================] - 19s 1ms/sample - loss: 2.4435 - acc: 0.5301\n",
            "Epoch 51/100\n",
            "15462/15462 [==============================] - 19s 1ms/sample - loss: 2.4005 - acc: 0.5412\n",
            "Epoch 52/100\n",
            "15462/15462 [==============================] - 19s 1ms/sample - loss: 2.3477 - acc: 0.5594\n",
            "Epoch 53/100\n",
            "15462/15462 [==============================] - 19s 1ms/sample - loss: 2.3125 - acc: 0.5617\n",
            "Epoch 54/100\n",
            "15462/15462 [==============================] - 19s 1ms/sample - loss: 2.2588 - acc: 0.5771\n",
            "Epoch 55/100\n",
            "15462/15462 [==============================] - 19s 1ms/sample - loss: 2.2252 - acc: 0.5845\n",
            "Epoch 56/100\n",
            "15462/15462 [==============================] - 18s 1ms/sample - loss: 2.1732 - acc: 0.5955\n",
            "Epoch 57/100\n",
            "15462/15462 [==============================] - 19s 1ms/sample - loss: 2.1447 - acc: 0.5969\n",
            "Epoch 58/100\n",
            "15462/15462 [==============================] - 18s 1ms/sample - loss: 2.1121 - acc: 0.6092\n",
            "Epoch 59/100\n",
            "15462/15462 [==============================] - 18s 1ms/sample - loss: 2.0553 - acc: 0.6237\n",
            "Epoch 60/100\n",
            "15462/15462 [==============================] - 18s 1ms/sample - loss: 2.0317 - acc: 0.6245\n",
            "Epoch 61/100\n",
            "15462/15462 [==============================] - 19s 1ms/sample - loss: 1.9902 - acc: 0.6348\n",
            "Epoch 62/100\n",
            "15462/15462 [==============================] - 19s 1ms/sample - loss: 1.9590 - acc: 0.6414\n",
            "Epoch 63/100\n",
            "15462/15462 [==============================] - 18s 1ms/sample - loss: 1.9273 - acc: 0.6489\n",
            "Epoch 64/100\n",
            "15462/15462 [==============================] - 18s 1ms/sample - loss: 1.8948 - acc: 0.6588\n",
            "Epoch 65/100\n",
            "15462/15462 [==============================] - 18s 1ms/sample - loss: 1.8688 - acc: 0.6590\n",
            "Epoch 66/100\n",
            "15462/15462 [==============================] - 18s 1ms/sample - loss: 1.8303 - acc: 0.6705\n",
            "Epoch 67/100\n",
            "15462/15462 [==============================] - 18s 1ms/sample - loss: 1.7905 - acc: 0.6801\n",
            "Epoch 68/100\n",
            "15462/15462 [==============================] - 18s 1ms/sample - loss: 1.7775 - acc: 0.6806\n",
            "Epoch 69/100\n",
            "15462/15462 [==============================] - 19s 1ms/sample - loss: 1.7537 - acc: 0.6860\n",
            "Epoch 70/100\n",
            "15462/15462 [==============================] - 19s 1ms/sample - loss: 1.7219 - acc: 0.6921\n",
            "Epoch 71/100\n",
            "15462/15462 [==============================] - 19s 1ms/sample - loss: 1.6953 - acc: 0.6999\n",
            "Epoch 72/100\n",
            "15462/15462 [==============================] - 21s 1ms/sample - loss: 1.6630 - acc: 0.7067\n",
            "Epoch 73/100\n",
            "15462/15462 [==============================] - 19s 1ms/sample - loss: 1.6401 - acc: 0.7139\n",
            "Epoch 74/100\n",
            "15462/15462 [==============================] - 20s 1ms/sample - loss: 1.6306 - acc: 0.7110\n",
            "Epoch 75/100\n",
            "15462/15462 [==============================] - 20s 1ms/sample - loss: 1.6052 - acc: 0.7176\n",
            "Epoch 76/100\n",
            "15462/15462 [==============================] - 20s 1ms/sample - loss: 1.5782 - acc: 0.7244\n",
            "Epoch 77/100\n",
            "15462/15462 [==============================] - 20s 1ms/sample - loss: 1.5547 - acc: 0.7293\n",
            "Epoch 78/100\n",
            "15462/15462 [==============================] - 20s 1ms/sample - loss: 1.5380 - acc: 0.7313\n",
            "Epoch 79/100\n",
            "15462/15462 [==============================] - 20s 1ms/sample - loss: 1.5133 - acc: 0.7363\n",
            "Epoch 80/100\n",
            "15462/15462 [==============================] - 20s 1ms/sample - loss: 1.4836 - acc: 0.7433\n",
            "Epoch 81/100\n",
            "15462/15462 [==============================] - 20s 1ms/sample - loss: 1.4873 - acc: 0.7392\n",
            "Epoch 82/100\n",
            "15462/15462 [==============================] - 20s 1ms/sample - loss: 1.4619 - acc: 0.7449\n",
            "Epoch 83/100\n",
            "15462/15462 [==============================] - 20s 1ms/sample - loss: 1.4455 - acc: 0.7469\n",
            "Epoch 84/100\n",
            "15462/15462 [==============================] - 20s 1ms/sample - loss: 1.4265 - acc: 0.7545\n",
            "Epoch 85/100\n",
            "15462/15462 [==============================] - 20s 1ms/sample - loss: 1.4155 - acc: 0.7538\n",
            "Epoch 86/100\n",
            "15462/15462 [==============================] - 20s 1ms/sample - loss: 1.3995 - acc: 0.7570\n",
            "Epoch 87/100\n",
            "15462/15462 [==============================] - 20s 1ms/sample - loss: 1.3805 - acc: 0.7624\n",
            "Epoch 88/100\n",
            "15462/15462 [==============================] - 20s 1ms/sample - loss: 1.3808 - acc: 0.7608\n",
            "Epoch 89/100\n",
            "15462/15462 [==============================] - 20s 1ms/sample - loss: 1.3454 - acc: 0.7683\n",
            "Epoch 90/100\n",
            "15462/15462 [==============================] - 20s 1ms/sample - loss: 1.3253 - acc: 0.7719\n",
            "Epoch 91/100\n",
            "15462/15462 [==============================] - 20s 1ms/sample - loss: 1.3150 - acc: 0.7711\n",
            "Epoch 92/100\n",
            "15462/15462 [==============================] - 20s 1ms/sample - loss: 1.2988 - acc: 0.7764\n",
            "Epoch 93/100\n",
            "15462/15462 [==============================] - 20s 1ms/sample - loss: 1.2838 - acc: 0.7813\n",
            "Epoch 94/100\n",
            "15462/15462 [==============================] - 20s 1ms/sample - loss: 1.2694 - acc: 0.7828\n",
            "Epoch 95/100\n",
            "15462/15462 [==============================] - 20s 1ms/sample - loss: 1.2666 - acc: 0.7841\n",
            "Epoch 96/100\n",
            "15462/15462 [==============================] - 20s 1ms/sample - loss: 1.2629 - acc: 0.7802\n",
            "Epoch 97/100\n",
            "15462/15462 [==============================] - 20s 1ms/sample - loss: 1.2424 - acc: 0.7873\n",
            "Epoch 98/100\n",
            "15462/15462 [==============================] - 20s 1ms/sample - loss: 1.2242 - acc: 0.7884\n",
            "Epoch 99/100\n",
            "15462/15462 [==============================] - 20s 1ms/sample - loss: 1.2341 - acc: 0.7875\n",
            "Epoch 100/100\n",
            "15462/15462 [==============================] - 20s 1ms/sample - loss: 1.2141 - acc: 0.7902\n"
          ],
          "name": "stdout"
        }
      ]
    },
    {
      "cell_type": "code",
      "metadata": {
        "id": "1fXTEO3GJ282",
        "colab_type": "code",
        "colab": {
          "base_uri": "https://localhost:8080/",
          "height": 545
        },
        "outputId": "d447b0ac-2c59-47ba-8904-10e5e15a9191"
      },
      "source": [
        "import matplotlib.pyplot as plt\n",
        "acc = history.history['acc']\n",
        "loss = history.history['loss']\n",
        "\n",
        "epochs = range(len(acc))\n",
        "\n",
        "plt.plot(epochs, acc, 'b', label='Training accuracy')\n",
        "plt.title('Training accuracy')\n",
        "\n",
        "plt.figure()\n",
        "\n",
        "plt.plot(epochs, loss, 'b', label='Training Loss')\n",
        "plt.title('Training loss')\n",
        "plt.legend()\n",
        "\n",
        "plt.show()"
      ],
      "execution_count": 6,
      "outputs": [
        {
          "output_type": "display_data",
          "data": {
            "image/png": "[encoded data removed]",
            "text/plain": [
              "<Figure size 432x288 with 1 Axes>"
            ]
          },
          "metadata": {
            "tags": []
          }
        },
        {
          "output_type": "display_data",
          "data": {
            "image/png": "[encoded data removed]",
            "text/plain": [
              "<Figure size 432x288 with 1 Axes>"
            ]
          },
          "metadata": {
            "tags": []
          }
        }
      ]
    },
    {
      "cell_type": "code",
      "metadata": {
        "id": "6Vc6PHgxa6Hm",
        "colab_type": "code",
        "colab": {
          "base_uri": "https://localhost:8080/",
          "height": 54
        },
        "outputId": "88e7c5a3-29d3-4e8d-ecd1-68430a285861"
      },
      "source": [
        "seed_text = \"Help me Obi Wan Kenobi, you're my only hope\"\n",
        "next_words = 100\n",
        "  \n",
        "for _ in range(next_words):\n",
        "\ttoken_list = tokenizer.texts_to_sequences([seed_text])[0]\n",
        "\ttoken_list = pad_sequences([token_list], maxlen=max_sequence_len-1, padding='pre')\n",
        "\tpredicted = model.predict_classes(token_list, verbose=0)\n",
        "\toutput_word = \"\"\n",
        "\tfor word, index in tokenizer.word_index.items():\n",
        "\t\tif index == predicted:\n",
        "\t\t\toutput_word = word\n",
        "\t\t\tbreak\n",
        "\tseed_text += \" \" + output_word\n",
        "print(seed_text)"
      ],
      "execution_count": 7,
      "outputs": [
        {
          "output_type": "stream",
          "text": [
            "Help me Obi Wan Kenobi, you're my only hope she knows my verse live prove good way lie of all to stay thy tongue dote bow bow bow mother remain mother light shines to die die die die die die die prove die die die die die die die die chide call her best doth spend appear twain ' forth an pride lies shines so die foes behind your way depend light light light mother leaves flow flow decays back room shines so die ' so die best thine eyes see be old good one lie on thy show old cross sight all dead delight rhyme lie of thee\n"
          ],
          "name": "stdout"
        }
      ]
    }
  ]
}