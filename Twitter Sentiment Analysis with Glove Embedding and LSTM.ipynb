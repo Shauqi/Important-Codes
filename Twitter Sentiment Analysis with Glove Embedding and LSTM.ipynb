{
  "nbformat": 4,
  "nbformat_minor": 0,
  "metadata": {
    "colab": {
      "name": "NLP Course - Week 3 Exercise Answer.ipynb",
      "provenance": []
    },
    "kernelspec": {
      "name": "python3",
      "display_name": "Python 3"
    },
    "accelerator": "GPU"
  },
  "cells": [
    {
      "cell_type": "code",
      "metadata": {
        "id": "hmA6EzkQJ5jt",
        "colab_type": "code",
        "colab": {
          "base_uri": "https://localhost:8080/",
          "height": 63
        },
        "outputId": "ab752ece-b548-40d0-a233-2337bc7d2bde"
      },
      "source": [
        "import json\n",
        "import tensorflow as tf\n",
        "import csv\n",
        "import random\n",
        "import numpy as np\n",
        "\n",
        "from tensorflow.keras.preprocessing.text import Tokenizer\n",
        "from tensorflow.keras.preprocessing.sequence import pad_sequences\n",
        "from tensorflow.keras.utils import to_categorical\n",
        "from tensorflow.keras import regularizers\n",
        "\n",
        "\n",
        "embedding_dim = 100\n",
        "max_length = 16\n",
        "trunc_type='post'\n",
        "padding_type='post'\n",
        "oov_tok = \"<OOV>\"\n",
        "training_size=160000\n",
        "test_portion=.1\n",
        "\n",
        "corpus = []\n"
      ],
      "execution_count": 1,
      "outputs": [
        {
          "output_type": "display_data",
          "data": {
            "text/html": [
              "<p style=\"color: red;\">\n",
              "The default version of TensorFlow in Colab will soon switch to TensorFlow 2.x.<br>\n",
              "We recommend you <a href=\"https://www.tensorflow.org/guide/migrate\" target=\"_blank\">upgrade</a> now \n",
              "or ensure your notebook will continue to use TensorFlow 1.x via the <code>%tensorflow_version 1.x</code> magic:\n",
              "<a href=\"https://colab.research.google.com/notebooks/tensorflow_version.ipynb\" target=\"_blank\">more info</a>.</p>\n"
            ],
            "text/plain": [
              "<IPython.core.display.HTML object>"
            ]
          },
          "metadata": {
            "tags": []
          }
        }
      ]
    },
    {
      "cell_type": "code",
      "metadata": {
        "id": "bM0l_dORKqE0",
        "colab_type": "code",
        "outputId": "8bb91295-9c0c-4486-dff6-6cdc0ddf9b47",
        "colab": {
          "base_uri": "https://localhost:8080/",
          "height": 204
        }
      },
      "source": [
        "\n",
        "# Note that I cleaned the Stanford dataset to remove LATIN1 encoding to make it easier for Python CSV reader\n",
        "# You can do that yourself with:\n",
        "# iconv -f LATIN1 -t UTF8 training.1600000.processed.noemoticon.csv -o training_cleaned.csv\n",
        "# I then hosted it on my site to make it easier to use in this notebook\n",
        "\n",
        "!wget --no-check-certificate \\\n",
        "    https://storage.googleapis.com/laurencemoroney-blog.appspot.com/training_cleaned.csv \\\n",
        "    -O /tmp/training_cleaned.csv\n",
        "\n",
        "num_sentences = 0\n",
        "\n",
        "with open(\"/tmp/training_cleaned.csv\") as csvfile:\n",
        "    reader = csv.reader(csvfile, delimiter=',')\n",
        "    for row in reader:\n",
        "        list_item=[]\n",
        "        list_item.append(row[5])\n",
        "        this_label=row[0]\n",
        "        if this_label=='0':\n",
        "            list_item.append(0)\n",
        "        else:\n",
        "            list_item.append(1)\n",
        "        num_sentences = num_sentences + 1\n",
        "        corpus.append(list_item)\n",
        "\n",
        "\n"
      ],
      "execution_count": 2,
      "outputs": [
        {
          "output_type": "stream",
          "text": [
            "--2019-12-12 04:28:33--  https://storage.googleapis.com/laurencemoroney-blog.appspot.com/training_cleaned.csv\n",
            "Resolving storage.googleapis.com (storage.googleapis.com)... 108.177.126.128, 2a00:1450:4013:c01::80\n",
            "Connecting to storage.googleapis.com (storage.googleapis.com)|108.177.126.128|:443... connected.\n",
            "HTTP request sent, awaiting response... 200 OK\n",
            "Length: 238942690 (228M) [application/octet-stream]\n",
            "Saving to: ‘/tmp/training_cleaned.csv’\n",
            "\n",
            "/tmp/training_clean 100%[===================>] 227.87M   238MB/s    in 1.0s    \n",
            "\n",
            "2019-12-12 04:28:34 (238 MB/s) - ‘/tmp/training_cleaned.csv’ saved [238942690/238942690]\n",
            "\n"
          ],
          "name": "stdout"
        }
      ]
    },
    {
      "cell_type": "code",
      "metadata": {
        "id": "3kxblBUjEUX-",
        "colab_type": "code",
        "outputId": "2514032d-1cb5-4e8c-8a70-ba3ef5ed6f0f",
        "colab": {
          "base_uri": "https://localhost:8080/",
          "height": 68
        }
      },
      "source": [
        "print(num_sentences)\n",
        "print(len(corpus))\n",
        "print(corpus[1])\n",
        "\n",
        "# Expected Output:\n",
        "# 1600000\n",
        "# 1600000\n",
        "# [\"is upset that he can't update his Facebook by texting it... and might cry as a result  School today also. Blah!\", 0]"
      ],
      "execution_count": 3,
      "outputs": [
        {
          "output_type": "stream",
          "text": [
            "1600000\n",
            "1600000\n",
            "[\"is upset that he can't update his Facebook by texting it... and might cry as a result  School today also. Blah!\", 0]\n"
          ],
          "name": "stdout"
        }
      ]
    },
    {
      "cell_type": "code",
      "metadata": {
        "id": "ohOGz24lsNAD",
        "colab_type": "code",
        "colab": {}
      },
      "source": [
        "sentences=[]\n",
        "labels=[]\n",
        "random.shuffle(corpus)\n",
        "for x in range(training_size):\n",
        "    sentences.append(corpus[x][0])\n",
        "    labels.append(corpus[x][1])\n",
        "\n",
        "\n",
        "tokenizer = Tokenizer()\n",
        "tokenizer.fit_on_texts(sentences)\n",
        "\n",
        "word_index = tokenizer.word_index\n",
        "vocab_size=len(word_index)\n",
        "\n",
        "sequences = tokenizer.texts_to_sequences(sentences)\n",
        "padded = pad_sequences(sequences, maxlen=max_length, padding=padding_type, truncating=trunc_type)\n",
        "\n",
        "split = int(test_portion * training_size)\n",
        "\n",
        "test_sequences = padded[0:split]\n",
        "training_sequences = padded[split:training_size]\n",
        "test_labels = labels[0:split]\n",
        "training_labels = labels[split:training_size]"
      ],
      "execution_count": 0,
      "outputs": []
    },
    {
      "cell_type": "code",
      "metadata": {
        "id": "gIrtRem1En3N",
        "colab_type": "code",
        "outputId": "73cdbee7-c739-4e26-baa7-0dee7076ae83",
        "colab": {
          "base_uri": "https://localhost:8080/",
          "height": 51
        }
      },
      "source": [
        "print(vocab_size)\n",
        "print(word_index['i'])\n",
        "# Expected Output\n",
        "# 138858\n",
        "# 1"
      ],
      "execution_count": 5,
      "outputs": [
        {
          "output_type": "stream",
          "text": [
            "138525\n",
            "1\n"
          ],
          "name": "stdout"
        }
      ]
    },
    {
      "cell_type": "code",
      "metadata": {
        "id": "C1zdgJkusRh0",
        "colab_type": "code",
        "outputId": "da838698-7cf9-45d7-df2d-12b79e631ba6",
        "colab": {
          "base_uri": "https://localhost:8080/",
          "height": 204
        }
      },
      "source": [
        "# Note this is the 100 dimension version of GloVe from Stanford\n",
        "# I unzipped and hosted it on my site to make this notebook easier\n",
        "!wget --no-check-certificate \\\n",
        "    https://storage.googleapis.com/laurencemoroney-blog.appspot.com/glove.6B.100d.txt \\\n",
        "    -O /tmp/glove.6B.100d.txt\n",
        "embeddings_index = {};\n",
        "with open('/tmp/glove.6B.100d.txt') as f:\n",
        "    for line in f:\n",
        "        values = line.split();\n",
        "        word = values[0];\n",
        "        coefs = np.asarray(values[1:], dtype='float32');\n",
        "        embeddings_index[word] = coefs;\n",
        "\n",
        "embeddings_matrix = np.zeros((vocab_size+1, embedding_dim));\n",
        "for word, i in word_index.items():\n",
        "    embedding_vector = embeddings_index.get(word);\n",
        "    if embedding_vector is not None:\n",
        "        embeddings_matrix[i] = embedding_vector;"
      ],
      "execution_count": 6,
      "outputs": [
        {
          "output_type": "stream",
          "text": [
            "--2019-12-12 04:29:00--  https://storage.googleapis.com/laurencemoroney-blog.appspot.com/glove.6B.100d.txt\n",
            "Resolving storage.googleapis.com (storage.googleapis.com)... 173.194.79.128, 2a00:1450:4013:c05::80\n",
            "Connecting to storage.googleapis.com (storage.googleapis.com)|173.194.79.128|:443... connected.\n",
            "HTTP request sent, awaiting response... 200 OK\n",
            "Length: 347116733 (331M) [text/plain]\n",
            "Saving to: ‘/tmp/glove.6B.100d.txt’\n",
            "\n",
            "/tmp/glove.6B.100d. 100%[===================>] 331.04M   186MB/s    in 1.8s    \n",
            "\n",
            "2019-12-12 04:29:02 (186 MB/s) - ‘/tmp/glove.6B.100d.txt’ saved [347116733/347116733]\n",
            "\n"
          ],
          "name": "stdout"
        }
      ]
    },
    {
      "cell_type": "code",
      "metadata": {
        "id": "71NLk_lpFLNt",
        "colab_type": "code",
        "outputId": "1687604e-d396-4f58-cee6-61973afa1641",
        "colab": {
          "base_uri": "https://localhost:8080/",
          "height": 34
        }
      },
      "source": [
        "print(len(embeddings_matrix))\n",
        "# Expected Output\n",
        "# 138859"
      ],
      "execution_count": 7,
      "outputs": [
        {
          "output_type": "stream",
          "text": [
            "138526\n"
          ],
          "name": "stdout"
        }
      ]
    },
    {
      "cell_type": "code",
      "metadata": {
        "colab_type": "code",
        "id": "iKKvbuEBOGFz",
        "colab": {
          "base_uri": "https://localhost:8080/",
          "height": 1000
        },
        "outputId": "693080d6-a4df-40c8-8df1-20a2f3700bc8"
      },
      "source": [
        "model = tf.keras.Sequential([\n",
        "    tf.keras.layers.Embedding(vocab_size+1, embedding_dim, input_length=max_length, weights=[embeddings_matrix], trainable=False),\n",
        "    tf.keras.layers.Dropout(0.2),\n",
        "    tf.keras.layers.Conv1D(64, 5, activation='relu'),\n",
        "    tf.keras.layers.MaxPooling1D(pool_size=4),\n",
        "    tf.keras.layers.LSTM(64),\n",
        "    tf.keras.layers.Dense(1, activation='sigmoid')\n",
        "])\n",
        "model.compile(loss='binary_crossentropy',optimizer='adam',metrics=['accuracy'])\n",
        "model.summary()\n",
        "\n",
        "num_epochs = 50\n",
        "history = model.fit(training_sequences, training_labels, epochs=num_epochs, validation_data=(test_sequences, test_labels), verbose=2)\n",
        "\n",
        "print(\"Training Complete\")\n"
      ],
      "execution_count": 8,
      "outputs": [
        {
          "output_type": "stream",
          "text": [
            "WARNING:tensorflow:From /usr/local/lib/python3.6/dist-packages/tensorflow_core/python/keras/initializers.py:119: calling RandomUniform.__init__ (from tensorflow.python.ops.init_ops) with dtype is deprecated and will be removed in a future version.\n",
            "Instructions for updating:\n",
            "Call initializer instance with the dtype argument instead of passing it to the constructor\n",
            "WARNING:tensorflow:From /usr/local/lib/python3.6/dist-packages/tensorflow_core/python/ops/resource_variable_ops.py:1630: calling BaseResourceVariable.__init__ (from tensorflow.python.ops.resource_variable_ops) with constraint is deprecated and will be removed in a future version.\n",
            "Instructions for updating:\n",
            "If using Keras pass *_constraint arguments to layers.\n",
            "WARNING:tensorflow:From /usr/local/lib/python3.6/dist-packages/tensorflow_core/python/ops/nn_impl.py:183: where (from tensorflow.python.ops.array_ops) is deprecated and will be removed in a future version.\n",
            "Instructions for updating:\n",
            "Use tf.where in 2.0, which has the same broadcast rule as np.where\n",
            "Model: \"sequential\"\n",
            "_________________________________________________________________\n",
            "Layer (type)                 Output Shape              Param #   \n",
            "=================================================================\n",
            "embedding (Embedding)        (None, 16, 100)           13852600  \n",
            "_________________________________________________________________\n",
            "dropout (Dropout)            (None, 16, 100)           0         \n",
            "_________________________________________________________________\n",
            "conv1d (Conv1D)              (None, 12, 64)            32064     \n",
            "_________________________________________________________________\n",
            "max_pooling1d (MaxPooling1D) (None, 3, 64)             0         \n",
            "_________________________________________________________________\n",
            "lstm (LSTM)                  (None, 64)                33024     \n",
            "_________________________________________________________________\n",
            "dense (Dense)                (None, 1)                 65        \n",
            "=================================================================\n",
            "Total params: 13,917,753\n",
            "Trainable params: 65,153\n",
            "Non-trainable params: 13,852,600\n",
            "_________________________________________________________________\n",
            "Train on 144000 samples, validate on 16000 samples\n",
            "Epoch 1/50\n",
            "144000/144000 - 35s - loss: 0.5653 - acc: 0.7013 - val_loss: 0.5215 - val_acc: 0.7358\n",
            "Epoch 2/50\n",
            "144000/144000 - 31s - loss: 0.5262 - acc: 0.7321 - val_loss: 0.5009 - val_acc: 0.7519\n",
            "Epoch 3/50\n",
            "144000/144000 - 31s - loss: 0.5071 - acc: 0.7452 - val_loss: 0.5018 - val_acc: 0.7497\n",
            "Epoch 4/50\n",
            "144000/144000 - 31s - loss: 0.4959 - acc: 0.7543 - val_loss: 0.4928 - val_acc: 0.7549\n",
            "Epoch 5/50\n",
            "144000/144000 - 31s - loss: 0.4884 - acc: 0.7589 - val_loss: 0.4896 - val_acc: 0.7584\n",
            "Epoch 6/50\n",
            "144000/144000 - 31s - loss: 0.4810 - acc: 0.7631 - val_loss: 0.4942 - val_acc: 0.7570\n",
            "Epoch 7/50\n",
            "144000/144000 - 31s - loss: 0.4747 - acc: 0.7673 - val_loss: 0.5000 - val_acc: 0.7546\n",
            "Epoch 8/50\n",
            "144000/144000 - 32s - loss: 0.4700 - acc: 0.7712 - val_loss: 0.4897 - val_acc: 0.7617\n",
            "Epoch 9/50\n",
            "144000/144000 - 33s - loss: 0.4656 - acc: 0.7734 - val_loss: 0.4914 - val_acc: 0.7605\n",
            "Epoch 10/50\n",
            "144000/144000 - 31s - loss: 0.4615 - acc: 0.7754 - val_loss: 0.4922 - val_acc: 0.7589\n",
            "Epoch 11/50\n",
            "144000/144000 - 31s - loss: 0.4588 - acc: 0.7773 - val_loss: 0.4921 - val_acc: 0.7566\n",
            "Epoch 12/50\n",
            "144000/144000 - 31s - loss: 0.4557 - acc: 0.7788 - val_loss: 0.4953 - val_acc: 0.7579\n",
            "Epoch 13/50\n",
            "144000/144000 - 31s - loss: 0.4539 - acc: 0.7801 - val_loss: 0.4970 - val_acc: 0.7586\n",
            "Epoch 14/50\n",
            "144000/144000 - 31s - loss: 0.4504 - acc: 0.7831 - val_loss: 0.4990 - val_acc: 0.7556\n",
            "Epoch 15/50\n",
            "144000/144000 - 31s - loss: 0.4468 - acc: 0.7858 - val_loss: 0.4991 - val_acc: 0.7558\n",
            "Epoch 16/50\n",
            "144000/144000 - 31s - loss: 0.4469 - acc: 0.7841 - val_loss: 0.4959 - val_acc: 0.7584\n",
            "Epoch 17/50\n",
            "144000/144000 - 31s - loss: 0.4439 - acc: 0.7861 - val_loss: 0.4981 - val_acc: 0.7561\n",
            "Epoch 18/50\n",
            "144000/144000 - 32s - loss: 0.4435 - acc: 0.7863 - val_loss: 0.5100 - val_acc: 0.7524\n",
            "Epoch 19/50\n",
            "144000/144000 - 31s - loss: 0.4406 - acc: 0.7876 - val_loss: 0.5003 - val_acc: 0.7621\n",
            "Epoch 20/50\n",
            "144000/144000 - 31s - loss: 0.4419 - acc: 0.7869 - val_loss: 0.5017 - val_acc: 0.7582\n",
            "Epoch 21/50\n",
            "144000/144000 - 31s - loss: 0.4385 - acc: 0.7902 - val_loss: 0.5094 - val_acc: 0.7530\n",
            "Epoch 22/50\n",
            "144000/144000 - 31s - loss: 0.4382 - acc: 0.7905 - val_loss: 0.4961 - val_acc: 0.7567\n",
            "Epoch 23/50\n",
            "144000/144000 - 31s - loss: 0.4368 - acc: 0.7906 - val_loss: 0.5014 - val_acc: 0.7571\n",
            "Epoch 24/50\n",
            "144000/144000 - 31s - loss: 0.4370 - acc: 0.7909 - val_loss: 0.5033 - val_acc: 0.7595\n",
            "Epoch 25/50\n",
            "144000/144000 - 31s - loss: 0.4355 - acc: 0.7913 - val_loss: 0.5018 - val_acc: 0.7592\n",
            "Epoch 26/50\n",
            "144000/144000 - 31s - loss: 0.4347 - acc: 0.7933 - val_loss: 0.5025 - val_acc: 0.7546\n",
            "Epoch 27/50\n",
            "144000/144000 - 31s - loss: 0.4335 - acc: 0.7928 - val_loss: 0.5078 - val_acc: 0.7571\n",
            "Epoch 28/50\n",
            "144000/144000 - 32s - loss: 0.4318 - acc: 0.7949 - val_loss: 0.5071 - val_acc: 0.7559\n",
            "Epoch 29/50\n",
            "144000/144000 - 31s - loss: 0.4311 - acc: 0.7938 - val_loss: 0.5070 - val_acc: 0.7534\n",
            "Epoch 30/50\n",
            "144000/144000 - 32s - loss: 0.4310 - acc: 0.7951 - val_loss: 0.5060 - val_acc: 0.7574\n",
            "Epoch 31/50\n",
            "144000/144000 - 32s - loss: 0.4316 - acc: 0.7943 - val_loss: 0.5113 - val_acc: 0.7516\n",
            "Epoch 32/50\n",
            "144000/144000 - 31s - loss: 0.4307 - acc: 0.7954 - val_loss: 0.5072 - val_acc: 0.7547\n",
            "Epoch 33/50\n",
            "144000/144000 - 31s - loss: 0.4296 - acc: 0.7947 - val_loss: 0.5097 - val_acc: 0.7574\n",
            "Epoch 34/50\n",
            "144000/144000 - 32s - loss: 0.4306 - acc: 0.7946 - val_loss: 0.5064 - val_acc: 0.7565\n",
            "Epoch 35/50\n",
            "144000/144000 - 32s - loss: 0.4288 - acc: 0.7964 - val_loss: 0.5070 - val_acc: 0.7576\n",
            "Epoch 36/50\n",
            "144000/144000 - 32s - loss: 0.4273 - acc: 0.7969 - val_loss: 0.5081 - val_acc: 0.7551\n",
            "Epoch 37/50\n",
            "144000/144000 - 31s - loss: 0.4290 - acc: 0.7962 - val_loss: 0.5123 - val_acc: 0.7530\n",
            "Epoch 38/50\n",
            "144000/144000 - 32s - loss: 0.4261 - acc: 0.7970 - val_loss: 0.5117 - val_acc: 0.7534\n",
            "Epoch 39/50\n",
            "144000/144000 - 31s - loss: 0.4282 - acc: 0.7968 - val_loss: 0.5103 - val_acc: 0.7524\n",
            "Epoch 40/50\n",
            "144000/144000 - 31s - loss: 0.4266 - acc: 0.7974 - val_loss: 0.5075 - val_acc: 0.7548\n",
            "Epoch 41/50\n",
            "144000/144000 - 31s - loss: 0.4271 - acc: 0.7965 - val_loss: 0.5139 - val_acc: 0.7563\n",
            "Epoch 42/50\n",
            "144000/144000 - 31s - loss: 0.4274 - acc: 0.7959 - val_loss: 0.5116 - val_acc: 0.7517\n",
            "Epoch 43/50\n",
            "144000/144000 - 31s - loss: 0.4248 - acc: 0.7984 - val_loss: 0.5119 - val_acc: 0.7541\n",
            "Epoch 44/50\n",
            "144000/144000 - 31s - loss: 0.4259 - acc: 0.7979 - val_loss: 0.5085 - val_acc: 0.7560\n",
            "Epoch 45/50\n",
            "144000/144000 - 31s - loss: 0.4280 - acc: 0.7966 - val_loss: 0.5104 - val_acc: 0.7532\n",
            "Epoch 46/50\n",
            "144000/144000 - 31s - loss: 0.4261 - acc: 0.7976 - val_loss: 0.5083 - val_acc: 0.7534\n",
            "Epoch 47/50\n",
            "144000/144000 - 31s - loss: 0.4260 - acc: 0.7980 - val_loss: 0.5114 - val_acc: 0.7523\n",
            "Epoch 48/50\n",
            "144000/144000 - 31s - loss: 0.4268 - acc: 0.7975 - val_loss: 0.5104 - val_acc: 0.7536\n",
            "Epoch 49/50\n",
            "144000/144000 - 31s - loss: 0.4258 - acc: 0.7978 - val_loss: 0.5175 - val_acc: 0.7506\n",
            "Epoch 50/50\n",
            "144000/144000 - 31s - loss: 0.4248 - acc: 0.7982 - val_loss: 0.5124 - val_acc: 0.7527\n",
            "Training Complete\n"
          ],
          "name": "stdout"
        }
      ]
    },
    {
      "cell_type": "code",
      "metadata": {
        "id": "qxju4ItJKO8F",
        "colab_type": "code",
        "colab": {
          "base_uri": "https://localhost:8080/",
          "height": 607
        },
        "outputId": "e450903b-3a7f-437b-ace7-0d409cbfd888"
      },
      "source": [
        "import matplotlib.image  as mpimg\n",
        "import matplotlib.pyplot as plt\n",
        "\n",
        "#-----------------------------------------------------------\n",
        "# Retrieve a list of list results on training and test data\n",
        "# sets for each training epoch\n",
        "#-----------------------------------------------------------\n",
        "acc=history.history['acc']\n",
        "val_acc=history.history['val_acc']\n",
        "loss=history.history['loss']\n",
        "val_loss=history.history['val_loss']\n",
        "\n",
        "epochs=range(len(acc)) # Get number of epochs\n",
        "\n",
        "#------------------------------------------------\n",
        "# Plot training and validation accuracy per epoch\n",
        "#------------------------------------------------\n",
        "plt.plot(epochs, acc, 'r')\n",
        "plt.plot(epochs, val_acc, 'b')\n",
        "plt.title('Training and validation accuracy')\n",
        "plt.xlabel(\"Epochs\")\n",
        "plt.ylabel(\"Accuracy\")\n",
        "plt.legend([\"Accuracy\", \"Validation Accuracy\"])\n",
        "\n",
        "plt.figure()\n",
        "\n",
        "#------------------------------------------------\n",
        "# Plot training and validation loss per epoch\n",
        "#------------------------------------------------\n",
        "plt.plot(epochs, loss, 'r')\n",
        "plt.plot(epochs, val_loss, 'b')\n",
        "plt.title('Training and validation loss')\n",
        "plt.xlabel(\"Epochs\")\n",
        "plt.ylabel(\"Loss\")\n",
        "plt.legend([\"Loss\", \"Validation Loss\"])\n",
        "\n",
        "plt.figure()\n",
        "\n",
        "\n",
        "# Expected Output\n",
        "# A chart where the validation loss does not increase sharply!"
      ],
      "execution_count": 9,
      "outputs": [
        {
          "output_type": "execute_result",
          "data": {
            "text/plain": [
              "<Figure size 432x288 with 0 Axes>"
            ]
          },
          "metadata": {
            "tags": []
          },
          "execution_count": 9
        },
        {
          "output_type": "display_data",
          "data": {
            "image/png": "[encoded data removed]",
            "text/plain": [
              "<Figure size 432x288 with 1 Axes>"
            ]
          },
          "metadata": {
            "tags": []
          }
        },
        {
          "output_type": "display_data",
          "data": {
            "image/png": "[encoded data removed]",
            "text/plain": [
              "<Figure size 432x288 with 1 Axes>"
            ]
          },
          "metadata": {
            "tags": []
          }
        },
        {
          "output_type": "display_data",
          "data": {
            "text/plain": [
              "<Figure size 432x288 with 0 Axes>"
            ]
          },
          "metadata": {
            "tags": []
          }
        }
      ]
    },
    {
      "cell_type": "code",
      "metadata": {
        "id": "1NO05c2YXH1_",
        "colab_type": "code",
        "colab": {}
      },
      "source": [
        ""
      ],
      "execution_count": 0,
      "outputs": []
    }
  ]
}